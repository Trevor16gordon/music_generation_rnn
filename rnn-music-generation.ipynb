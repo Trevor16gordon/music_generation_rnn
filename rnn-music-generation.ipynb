{
 "cells": [
  {
   "cell_type": "markdown",
   "id": "424f3e62",
   "metadata": {},
   "source": [
    "# Music Generation RNN\n",
    "This jupyter notebook covers the whole data pipeline and goes through multiple experiments to reflect on our achievements and learnings during the development process."
   ]
  },
  {
   "cell_type": "markdown",
   "id": "a3967b1b",
   "metadata": {},
   "source": [
    "## Setup\n",
    "This section installs and imports the required libraries."
   ]
  },
  {
   "cell_type": "code",
   "execution_count": 1,
   "id": "8d519e2b",
   "metadata": {},
   "outputs": [
    {
     "name": "stdout",
     "output_type": "stream",
     "text": [
      "--2021-12-20 04:45:49--  https://tinyurl.com/mpkou9t\n",
      "Resolving tinyurl.com (tinyurl.com)... 104.20.139.65, 172.67.1.225, 104.20.138.65, ...\n",
      "Connecting to tinyurl.com (tinyurl.com)|104.20.139.65|:443... connected.\n",
      "HTTP request sent, awaiting response... 301 Moved Permanently\n",
      "Location: https://free-piano-tutorials-midi.s3.amazonaws.com/Alan%20Walker%20-%20Faded/Alan_Walker_Faded.mid [following]\n",
      "--2021-12-20 04:45:49--  https://free-piano-tutorials-midi.s3.amazonaws.com/Alan%20Walker%20-%20Faded/Alan_Walker_Faded.mid\n",
      "Resolving free-piano-tutorials-midi.s3.amazonaws.com (free-piano-tutorials-midi.s3.amazonaws.com)... 52.217.8.228\n",
      "Connecting to free-piano-tutorials-midi.s3.amazonaws.com (free-piano-tutorials-midi.s3.amazonaws.com)|52.217.8.228|:443... connected.\n",
      "HTTP request sent, awaiting response... 200 OK\n",
      "Length: 10460 (10K) [audio/mid]\n",
      "Saving to: ‘mpkou9t.3’\n",
      "\n",
      "mpkou9t.3           100%[===================>]  10.21K  --.-KB/s    in 0s      \n",
      "\n",
      "2021-12-20 04:45:50 (119 MB/s) - ‘mpkou9t.3’ saved [10460/10460]\n",
      "\n",
      "Requirement already satisfied: pretty-midi in /home/ecbm4040/envTF24/lib/python3.6/site-packages (0.2.9)\n",
      "Requirement already satisfied: numpy>=1.7.0 in /home/ecbm4040/envTF24/lib/python3.6/site-packages (from pretty-midi) (1.19.5)\n",
      "Requirement already satisfied: mido>=1.1.16 in /home/ecbm4040/envTF24/lib/python3.6/site-packages (from pretty-midi) (1.2.10)\n",
      "Requirement already satisfied: six in /home/ecbm4040/envTF24/lib/python3.6/site-packages (from pretty-midi) (1.15.0)\n",
      "\u001b[33mWARNING: You are using pip version 21.2.4; however, version 21.3.1 is available.\n",
      "You should consider upgrading via the '/home/ecbm4040/envTF24/bin/python3 -m pip install --upgrade pip' command.\u001b[0m\n",
      "Reading package lists... Done\n",
      "Building dependency tree       \n",
      "Reading state information... Done\n",
      "fluidsynth is already the newest version (1.1.9-1).\n",
      "The following packages were automatically installed and are no longer required:\n",
      "  libnuma1 linux-gcp-5.4-headers-5.4.0-1052 linux-gcp-5.4-headers-5.4.0-1053\n",
      "  linux-gcp-5.4-headers-5.4.0-1055 linux-gcp-5.4-headers-5.4.0-1056\n",
      "Use 'sudo apt autoremove' to remove them.\n",
      "0 upgraded, 0 newly installed, 0 to remove and 41 not upgraded.\n",
      "Requirement already satisfied: pyfluidsynth in /home/ecbm4040/envTF24/lib/python3.6/site-packages (1.3.0)\n",
      "Requirement already satisfied: numpy in /home/ecbm4040/envTF24/lib/python3.6/site-packages (from pyfluidsynth) (1.19.5)\n",
      "\u001b[33mWARNING: You are using pip version 21.2.4; however, version 21.3.1 is available.\n",
      "You should consider upgrading via the '/home/ecbm4040/envTF24/bin/python3 -m pip install --upgrade pip' command.\u001b[0m\n"
     ]
    }
   ],
   "source": [
    "!wget \"https://tinyurl.com/mpkou9t\"\n",
    "!pip install pretty-midi\n",
    "!sudo apt install -y fluidsynth\n",
    "!pip install --upgrade pyfluidsynth"
   ]
  },
  {
   "cell_type": "code",
   "execution_count": 1,
   "id": "52c91e11",
   "metadata": {},
   "outputs": [],
   "source": [
    "import pandas as pd\n",
    "import numpy as np\n",
    "import tensorflow as tf\n",
    "import src.models.basic_rnn as brnn\n",
    "from src.utils.visualization import plot_piano_roll, plot_histories"
   ]
  },
  {
   "cell_type": "markdown",
   "id": "1f953f19",
   "metadata": {},
   "source": [
    "## Experiments\n",
    "Our data pre-processing is handled by the different experiment classes as some of them require differ inputs which we have continuosly improved during our research and development. "
   ]
  },
  {
   "cell_type": "markdown",
   "id": "c56175d6",
   "metadata": {},
   "source": [
    "### Experiment 1 - Tensorflow Tutorial\n",
    "The modle provided by the Tensorflow tutorial is very different from the other models and the model in the paper by Daniel Johnson because it does not use the a beat-wise structure. Instead it utilizes the time stamps of each note. While this simplifies the data processing, the generated music is not very complex. Link to model: https://www.tensorflow.org/tutorials/audio/music_generation\n",
    "\n",
    "- Input: The data is in a dictonary of the form \\[\"pitch\", \"step\", \"duration\"\\]\n",
    "- Model: 1 LSTM layer (128) and one Dense layer without activation. \n",
    "    - Optimizer: Adam\n",
    "    - Loss: SparseCategoricalLoss\n",
    "- Output: Predicts pitch, step, and duration at the same time"
   ]
  },
  {
   "cell_type": "code",
   "execution_count": 2,
   "id": "dce8bdf4",
   "metadata": {},
   "outputs": [
    {
     "name": "stdout",
     "output_type": "stream",
     "text": [
      "Experiment 1:\n",
      "in get_model self is <src.models.basic_rnn.RNNMusicExperimentSix object at 0x7fb44be26860>\n",
      "Epoch 1/10\n",
      "519/519 [==============================] - 9s 5ms/step - loss: 0.3106 - duration_loss: 0.0569 - pitch_loss: 4.2398 - step_loss: 0.0417\n",
      "Epoch 2/10\n",
      "519/519 [==============================] - 2s 4ms/step - loss: 0.2723 - duration_loss: 0.0483 - pitch_loss: 3.9484 - step_loss: 0.0266\n",
      "Epoch 3/10\n",
      "519/519 [==============================] - 2s 4ms/step - loss: 0.2679 - duration_loss: 0.0482 - pitch_loss: 3.8676 - step_loss: 0.0263\n",
      "Epoch 4/10\n",
      "519/519 [==============================] - 2s 4ms/step - loss: 0.2640 - duration_loss: 0.0467 - pitch_loss: 3.8291 - step_loss: 0.0258\n",
      "Epoch 5/10\n",
      "519/519 [==============================] - 2s 4ms/step - loss: 0.2619 - duration_loss: 0.0458 - pitch_loss: 3.8190 - step_loss: 0.0252\n",
      "Epoch 6/10\n",
      "519/519 [==============================] - 2s 4ms/step - loss: 0.2596 - duration_loss: 0.0449 - pitch_loss: 3.8043 - step_loss: 0.0246\n",
      "Epoch 7/10\n",
      "519/519 [==============================] - 2s 4ms/step - loss: 0.2586 - duration_loss: 0.0445 - pitch_loss: 3.7970 - step_loss: 0.0242\n",
      "Epoch 8/10\n",
      "519/519 [==============================] - 2s 4ms/step - loss: 0.2567 - duration_loss: 0.0436 - pitch_loss: 3.7889 - step_loss: 0.0237\n",
      "Epoch 9/10\n",
      "519/519 [==============================] - 2s 4ms/step - loss: 0.2554 - duration_loss: 0.0432 - pitch_loss: 3.7840 - step_loss: 0.0230\n",
      "Epoch 10/10\n",
      "519/519 [==============================] - 2s 4ms/step - loss: 0.2545 - duration_loss: 0.0423 - pitch_loss: 3.7769 - step_loss: 0.0233\n",
      "Predicting data\n"
     ]
    },
    {
     "data": {
      "image/png": "[encoded data removed]",
      "text/plain": [
       "<Figure size 2880x720 with 1 Axes>"
      ]
     },
     "metadata": {
      "needs_background": "light"
     },
     "output_type": "display_data"
    }
   ],
   "source": [
    "print(\"Experiment 1:\")\n",
    "exp = brnn.RNNMusicExperimentSix(\n",
    "    learning_rate=0.005,\n",
    "    epochs=10,\n",
    "    batch_size=64,\n",
    "    num_music_files=5,\n",
    "    sequence_length=25,\n",
    ")\n",
    "exp.run()"
   ]
  },
  {
   "cell_type": "code",
   "execution_count": null,
   "id": "a6bc833c",
   "metadata": {},
   "outputs": [],
   "source": [
    "#TODO: Fix graph\n",
    "#TODO: Display Audio"
   ]
  },
  {
   "cell_type": "markdown",
   "id": "8f882be5",
   "metadata": {},
   "source": [
    "#### Analysis:\n",
    "# TODO: ADD TEXT"
   ]
  },
  {
   "cell_type": "markdown",
   "id": "3bb53061",
   "metadata": {},
   "source": [
    "### Experiment 2 - [NAME]\n",
    "#TODO: Explanation\n",
    "\n",
    "- Input: The data is in shape (260 x seq_length) - 260 being 128 notes + 128 articulations + 4 beats\n",
    "- Model: 4 LSTM layers (256) and one Dense layer without relu activation. \n",
    "    - Optimizer: Adam\n",
    "    - Loss: CategoricalCrossEntropy\n",
    "- Output: Predicts the next timesteps, i.e. which notes are played at the next beat."
   ]
  },
  {
   "cell_type": "code",
   "execution_count": 3,
   "id": "9621b5cb",
   "metadata": {},
   "outputs": [
    {
     "name": "stdout",
     "output_type": "stream",
     "text": [
      "Experiment 2:\n"
     ]
    },
    {
     "ename": "AttributeError",
     "evalue": "'RNNMusicDataSetPreparer' object has no attribute 'all_midi_obj_to_play_articulate'",
     "output_type": "error",
     "traceback": [
      "\u001b[0;31m---------------------------------------------------------------------------\u001b[0m",
      "\u001b[0;31mAttributeError\u001b[0m                            Traceback (most recent call last)",
      "\u001b[0;32m<ipython-input-3-83c1ce8a5a02>\u001b[0m in \u001b[0;36m<module>\u001b[0;34m\u001b[0m\n\u001b[1;32m      7\u001b[0m     \u001b[0msequence_length\u001b[0m\u001b[0;34m=\u001b[0m\u001b[0;36m25\u001b[0m\u001b[0;34m,\u001b[0m\u001b[0;34m\u001b[0m\u001b[0;34m\u001b[0m\u001b[0m\n\u001b[1;32m      8\u001b[0m )\n\u001b[0;32m----> 9\u001b[0;31m \u001b[0mexp\u001b[0m\u001b[0;34m.\u001b[0m\u001b[0mrun\u001b[0m\u001b[0;34m(\u001b[0m\u001b[0;34m)\u001b[0m\u001b[0;34m\u001b[0m\u001b[0;34m\u001b[0m\u001b[0m\n\u001b[0m",
      "\u001b[0;32m~/music_generation_rnn/src/models/basic_rnn.py\u001b[0m in \u001b[0;36mrun\u001b[0;34m(self)\u001b[0m\n\u001b[1;32m    477\u001b[0m         \u001b[0;32mreturn\u001b[0m \u001b[0mself\u001b[0m\u001b[0;34m.\u001b[0m\u001b[0mmodel\u001b[0m\u001b[0;34m\u001b[0m\u001b[0;34m\u001b[0m\u001b[0m\n\u001b[1;32m    478\u001b[0m \u001b[0;34m\u001b[0m\u001b[0m\n\u001b[0;32m--> 479\u001b[0;31m     \u001b[0;32mdef\u001b[0m \u001b[0mget_history\u001b[0m\u001b[0;34m(\u001b[0m\u001b[0mself\u001b[0m\u001b[0;34m)\u001b[0m\u001b[0;34m:\u001b[0m\u001b[0;34m\u001b[0m\u001b[0;34m\u001b[0m\u001b[0m\n\u001b[0m\u001b[1;32m    480\u001b[0m         \u001b[0;32mreturn\u001b[0m \u001b[0mself\u001b[0m\u001b[0;34m.\u001b[0m\u001b[0mhistory\u001b[0m\u001b[0;34m\u001b[0m\u001b[0;34m\u001b[0m\u001b[0m\n\u001b[1;32m    481\u001b[0m \u001b[0;34m\u001b[0m\u001b[0m\n",
      "\u001b[0;32m~/music_generation_rnn/src/models/basic_rnn.py\u001b[0m in \u001b[0;36mprepare_data\u001b[0;34m(self, midi_objs)\u001b[0m\n\u001b[1;32m    555\u001b[0m     \u001b[0;32mdef\u001b[0m \u001b[0mprepare_data\u001b[0m\u001b[0;34m(\u001b[0m\u001b[0mself\u001b[0m\u001b[0;34m,\u001b[0m \u001b[0mmidi_objs\u001b[0m\u001b[0;34m)\u001b[0m\u001b[0;34m:\u001b[0m\u001b[0;34m\u001b[0m\u001b[0;34m\u001b[0m\u001b[0m\n\u001b[1;32m    556\u001b[0m         \u001b[0mplay_articulated\u001b[0m \u001b[0;34m=\u001b[0m \u001b[0mRNNMusicDataSetPreparer\u001b[0m\u001b[0;34m(\u001b[0m\u001b[0;34m)\u001b[0m\u001b[0;34m.\u001b[0m\u001b[0mall_midi_obj_to_play_articulate\u001b[0m\u001b[0;34m(\u001b[0m\u001b[0mmidi_objs\u001b[0m\u001b[0;34m)\u001b[0m\u001b[0;34m\u001b[0m\u001b[0;34m\u001b[0m\u001b[0m\n\u001b[0;32m--> 557\u001b[0;31m         \u001b[0mseq_ds\u001b[0m \u001b[0;34m=\u001b[0m \u001b[0mRNNMusicDataSetPreparer\u001b[0m\u001b[0;34m(\u001b[0m\u001b[0;34m)\u001b[0m\u001b[0;34m.\u001b[0m\u001b[0mprepare\u001b[0m\u001b[0;34m(\u001b[0m\u001b[0mplay_articulated\u001b[0m\u001b[0;34m)\u001b[0m\u001b[0;34m\u001b[0m\u001b[0;34m\u001b[0m\u001b[0m\n\u001b[0m\u001b[1;32m    558\u001b[0m         \u001b[0;31m# TODO: Some models return a DataSet and some return X_train, y_train\u001b[0m\u001b[0;34m\u001b[0m\u001b[0;34m\u001b[0m\u001b[0;34m\u001b[0m\u001b[0m\n\u001b[1;32m    559\u001b[0m         \u001b[0;32mreturn\u001b[0m \u001b[0mseq_ds\u001b[0m\u001b[0;34m\u001b[0m\u001b[0;34m\u001b[0m\u001b[0m\n",
      "\u001b[0;31mAttributeError\u001b[0m: 'RNNMusicDataSetPreparer' object has no attribute 'all_midi_obj_to_play_articulate'"
     ]
    }
   ],
   "source": [
    "print(\"Experiment 2:\")\n",
    "exp = brnn.RNNMusicExperimentOne(\n",
    "    learning_rate=0.005,\n",
    "    epochs=10,\n",
    "    batch_size=64,\n",
    "    num_music_files=5,\n",
    "    sequence_length=25,\n",
    ")\n",
    "exp.run()"
   ]
  },
  {
   "cell_type": "markdown",
   "id": "2af6f20d",
   "metadata": {},
   "source": [
    "## Evaluation of Different Models"
   ]
  },
  {
   "cell_type": "code",
   "execution_count": null,
   "id": "8c995c46",
   "metadata": {},
   "outputs": [],
   "source": [
    "histories = []\n",
    "history_labels = []\n",
    "parameter = \"loss\"\n",
    "histories.append(exp1_history)\n",
    "history_labels.append(\"exp1\")\n",
    "\n",
    "exp1_history = exp.get_history()"
   ]
  },
  {
   "cell_type": "code",
   "execution_count": null,
   "id": "e5b200ca",
   "metadata": {},
   "outputs": [],
   "source": [
    "plot_histories(histories, history_labels, parameter)"
   ]
  },
  {
   "cell_type": "code",
   "execution_count": null,
   "id": "0df75ed7",
   "metadata": {},
   "outputs": [],
   "source": [
    "#TODO: Plot graph with all models\n",
    "#TODO: Have predicted music files from each (optional)\n",
    "#TODO: Write paragraph about what effect each change has"
   ]
  }
 ],
 "metadata": {
  "kernelspec": {
   "display_name": "Python 3",
   "language": "python",
   "name": "python3"
  },
  "language_info": {
   "codemirror_mode": {
    "name": "ipython",
    "version": 3
   },
   "file_extension": ".py",
   "mimetype": "text/x-python",
   "name": "python",
   "nbconvert_exporter": "python",
   "pygments_lexer": "ipython3",
   "version": "3.6.9"
  }
 },
 "nbformat": 4,
 "nbformat_minor": 5
}
